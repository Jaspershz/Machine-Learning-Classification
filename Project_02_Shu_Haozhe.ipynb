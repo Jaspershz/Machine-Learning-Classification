{
 "cells": [
  {
   "cell_type": "markdown",
   "metadata": {},
   "source": [
    "# ECE 697AM - Project 2\n",
    "# Name: Haozhe Shu"
   ]
  },
  {
   "cell_type": "markdown",
   "metadata": {},
   "source": [
    "This project has two parts. In the first part, you are asked to train and compare classifiers on a given dataset. In the second part, you are asked to find and prepare your own dataset and train suitable classifier.\n",
    "\n",
    "The API reference for scikit-learn is available at: https://scikit-learn.org/stable/modules/classes.html"
   ]
  },
  {
   "cell_type": "markdown",
   "metadata": {},
   "source": [
    "# Part 1: Health Dataset\n",
    "\n",
    "## Part 1-1: Loading Data\n",
    "\n",
    "This part of the project uses a biomechanical dataset. The dataset is from https://www.kaggle.com/caesarlupum/vertebralcolumndataset Please see that website for a detailed description of the data. The data represents biomechanical features, which could be measured by a embedded medical system, to classify orthopaedic patients according to the condition of their spine. Being able to predict the correct classes based on these biomedical features might help in treating patients or avoiding more invasive tests. "
   ]
  },
  {
   "cell_type": "code",
   "execution_count": 71,
   "metadata": {},
   "outputs": [],
   "source": [
    "# Python ≥3.5 is required\n",
    "import sys\n",
    "assert sys.version_info >= (3, 5)\n",
    "\n",
    "# Scikit-Learn ≥0.20 is required\n",
    "import sklearn\n",
    "assert sklearn.__version__ >= \"0.20\"\n",
    "\n",
    "# Common imports\n",
    "import numpy as np\n",
    "import os\n",
    "\n",
    "# To plot pretty figures\n",
    "%matplotlib inline\n",
    "import matplotlib as mpl\n",
    "import matplotlib.pyplot as plt\n",
    "mpl.rc('axes', labelsize=14)\n",
    "mpl.rc('xtick', labelsize=12)\n",
    "mpl.rc('ytick', labelsize=12)\n",
    "\n",
    "def save_fig(fig_id, tight_layout=True, fig_extension=\"png\", resolution=300):\n",
    "    path = os.path.join(\"images\", fig_id + \".\" + fig_extension)\n",
    "    print(\"Saving figure\", fig_id)\n",
    "    if tight_layout:\n",
    "        plt.tight_layout()\n",
    "    plt.savefig(path, format=fig_extension, dpi=resolution)\n",
    "\n",
    "# Ignore useless warnings (see SciPy issue #5998)\n",
    "import warnings\n",
    "warnings.filterwarnings(action=\"ignore\", message=\"^internal gelsd\")"
   ]
  },
  {
   "cell_type": "markdown",
   "metadata": {},
   "source": [
    "The following shows some basic information about the dataset."
   ]
  },
  {
   "cell_type": "code",
   "execution_count": 72,
   "metadata": {},
   "outputs": [
    {
     "data": {
      "text/html": [
       "<div>\n",
       "<style scoped>\n",
       "    .dataframe tbody tr th:only-of-type {\n",
       "        vertical-align: middle;\n",
       "    }\n",
       "\n",
       "    .dataframe tbody tr th {\n",
       "        vertical-align: top;\n",
       "    }\n",
       "\n",
       "    .dataframe thead th {\n",
       "        text-align: right;\n",
       "    }\n",
       "</style>\n",
       "<table border=\"1\" class=\"dataframe\">\n",
       "  <thead>\n",
       "    <tr style=\"text-align: right;\">\n",
       "      <th></th>\n",
       "      <th>pelvic_incidence</th>\n",
       "      <th>pelvic_tilt</th>\n",
       "      <th>lumbar_lordosis_angle</th>\n",
       "      <th>sacral_slope</th>\n",
       "      <th>pelvic_radius</th>\n",
       "      <th>degree_spondylolisthesis</th>\n",
       "      <th>class</th>\n",
       "    </tr>\n",
       "  </thead>\n",
       "  <tbody>\n",
       "    <tr>\n",
       "      <th>0</th>\n",
       "      <td>63.027817</td>\n",
       "      <td>22.552586</td>\n",
       "      <td>39.609117</td>\n",
       "      <td>40.475232</td>\n",
       "      <td>98.672917</td>\n",
       "      <td>-0.254400</td>\n",
       "      <td>Hernia</td>\n",
       "    </tr>\n",
       "    <tr>\n",
       "      <th>1</th>\n",
       "      <td>39.056951</td>\n",
       "      <td>10.060991</td>\n",
       "      <td>25.015378</td>\n",
       "      <td>28.995960</td>\n",
       "      <td>114.405425</td>\n",
       "      <td>4.564259</td>\n",
       "      <td>Hernia</td>\n",
       "    </tr>\n",
       "    <tr>\n",
       "      <th>2</th>\n",
       "      <td>68.832021</td>\n",
       "      <td>22.218482</td>\n",
       "      <td>50.092194</td>\n",
       "      <td>46.613539</td>\n",
       "      <td>105.985135</td>\n",
       "      <td>-3.530317</td>\n",
       "      <td>Hernia</td>\n",
       "    </tr>\n",
       "    <tr>\n",
       "      <th>3</th>\n",
       "      <td>69.297008</td>\n",
       "      <td>24.652878</td>\n",
       "      <td>44.311238</td>\n",
       "      <td>44.644130</td>\n",
       "      <td>101.868495</td>\n",
       "      <td>11.211523</td>\n",
       "      <td>Hernia</td>\n",
       "    </tr>\n",
       "    <tr>\n",
       "      <th>4</th>\n",
       "      <td>49.712859</td>\n",
       "      <td>9.652075</td>\n",
       "      <td>28.317406</td>\n",
       "      <td>40.060784</td>\n",
       "      <td>108.168725</td>\n",
       "      <td>7.918501</td>\n",
       "      <td>Hernia</td>\n",
       "    </tr>\n",
       "  </tbody>\n",
       "</table>\n",
       "</div>"
      ],
      "text/plain": [
       "   pelvic_incidence  pelvic_tilt  lumbar_lordosis_angle  sacral_slope  \\\n",
       "0         63.027817    22.552586              39.609117     40.475232   \n",
       "1         39.056951    10.060991              25.015378     28.995960   \n",
       "2         68.832021    22.218482              50.092194     46.613539   \n",
       "3         69.297008    24.652878              44.311238     44.644130   \n",
       "4         49.712859     9.652075              28.317406     40.060784   \n",
       "\n",
       "   pelvic_radius  degree_spondylolisthesis   class  \n",
       "0      98.672917                 -0.254400  Hernia  \n",
       "1     114.405425                  4.564259  Hernia  \n",
       "2     105.985135                 -3.530317  Hernia  \n",
       "3     101.868495                 11.211523  Hernia  \n",
       "4     108.168725                  7.918501  Hernia  "
      ]
     },
     "execution_count": 72,
     "metadata": {},
     "output_type": "execute_result"
    }
   ],
   "source": [
    "import pandas as pd\n",
    "\n",
    "bio_data = pd.read_csv(os.path.join(\"files\",\"projects\",\"datasets\",\"biomechanical\",\"biomechanical_3C.csv\"))\n",
    "bio_data.head()"
   ]
  },
  {
   "cell_type": "code",
   "execution_count": 73,
   "metadata": {},
   "outputs": [
    {
     "name": "stdout",
     "output_type": "stream",
     "text": [
      "<class 'pandas.core.frame.DataFrame'>\n",
      "RangeIndex: 310 entries, 0 to 309\n",
      "Data columns (total 7 columns):\n",
      " #   Column                    Non-Null Count  Dtype  \n",
      "---  ------                    --------------  -----  \n",
      " 0   pelvic_incidence          310 non-null    float64\n",
      " 1   pelvic_tilt               310 non-null    float64\n",
      " 2   lumbar_lordosis_angle     310 non-null    float64\n",
      " 3   sacral_slope              310 non-null    float64\n",
      " 4   pelvic_radius             310 non-null    float64\n",
      " 5   degree_spondylolisthesis  310 non-null    float64\n",
      " 6   class                     310 non-null    object \n",
      "dtypes: float64(6), object(1)\n",
      "memory usage: 17.1+ KB\n"
     ]
    }
   ],
   "source": [
    "bio_data.info()"
   ]
  },
  {
   "cell_type": "code",
   "execution_count": 74,
   "metadata": {},
   "outputs": [
    {
     "data": {
      "text/html": [
       "<div>\n",
       "<style scoped>\n",
       "    .dataframe tbody tr th:only-of-type {\n",
       "        vertical-align: middle;\n",
       "    }\n",
       "\n",
       "    .dataframe tbody tr th {\n",
       "        vertical-align: top;\n",
       "    }\n",
       "\n",
       "    .dataframe thead th {\n",
       "        text-align: right;\n",
       "    }\n",
       "</style>\n",
       "<table border=\"1\" class=\"dataframe\">\n",
       "  <thead>\n",
       "    <tr style=\"text-align: right;\">\n",
       "      <th></th>\n",
       "      <th>pelvic_incidence</th>\n",
       "      <th>pelvic_tilt</th>\n",
       "      <th>lumbar_lordosis_angle</th>\n",
       "      <th>sacral_slope</th>\n",
       "      <th>pelvic_radius</th>\n",
       "      <th>degree_spondylolisthesis</th>\n",
       "    </tr>\n",
       "  </thead>\n",
       "  <tbody>\n",
       "    <tr>\n",
       "      <th>count</th>\n",
       "      <td>310.000000</td>\n",
       "      <td>310.000000</td>\n",
       "      <td>310.000000</td>\n",
       "      <td>310.000000</td>\n",
       "      <td>310.000000</td>\n",
       "      <td>310.000000</td>\n",
       "    </tr>\n",
       "    <tr>\n",
       "      <th>mean</th>\n",
       "      <td>60.496653</td>\n",
       "      <td>17.542822</td>\n",
       "      <td>51.930930</td>\n",
       "      <td>42.953831</td>\n",
       "      <td>117.920655</td>\n",
       "      <td>26.296694</td>\n",
       "    </tr>\n",
       "    <tr>\n",
       "      <th>std</th>\n",
       "      <td>17.236520</td>\n",
       "      <td>10.008330</td>\n",
       "      <td>18.554064</td>\n",
       "      <td>13.423102</td>\n",
       "      <td>13.317377</td>\n",
       "      <td>37.559027</td>\n",
       "    </tr>\n",
       "    <tr>\n",
       "      <th>min</th>\n",
       "      <td>26.147921</td>\n",
       "      <td>-6.554948</td>\n",
       "      <td>14.000000</td>\n",
       "      <td>13.366931</td>\n",
       "      <td>70.082575</td>\n",
       "      <td>-11.058179</td>\n",
       "    </tr>\n",
       "    <tr>\n",
       "      <th>25%</th>\n",
       "      <td>46.430294</td>\n",
       "      <td>10.667069</td>\n",
       "      <td>37.000000</td>\n",
       "      <td>33.347122</td>\n",
       "      <td>110.709196</td>\n",
       "      <td>1.603727</td>\n",
       "    </tr>\n",
       "    <tr>\n",
       "      <th>50%</th>\n",
       "      <td>58.691038</td>\n",
       "      <td>16.357689</td>\n",
       "      <td>49.562398</td>\n",
       "      <td>42.404912</td>\n",
       "      <td>118.268178</td>\n",
       "      <td>11.767934</td>\n",
       "    </tr>\n",
       "    <tr>\n",
       "      <th>75%</th>\n",
       "      <td>72.877696</td>\n",
       "      <td>22.120395</td>\n",
       "      <td>63.000000</td>\n",
       "      <td>52.695888</td>\n",
       "      <td>125.467674</td>\n",
       "      <td>41.287352</td>\n",
       "    </tr>\n",
       "    <tr>\n",
       "      <th>max</th>\n",
       "      <td>129.834041</td>\n",
       "      <td>49.431864</td>\n",
       "      <td>125.742385</td>\n",
       "      <td>121.429566</td>\n",
       "      <td>163.071041</td>\n",
       "      <td>418.543082</td>\n",
       "    </tr>\n",
       "  </tbody>\n",
       "</table>\n",
       "</div>"
      ],
      "text/plain": [
       "       pelvic_incidence  pelvic_tilt  lumbar_lordosis_angle  sacral_slope  \\\n",
       "count        310.000000   310.000000             310.000000    310.000000   \n",
       "mean          60.496653    17.542822              51.930930     42.953831   \n",
       "std           17.236520    10.008330              18.554064     13.423102   \n",
       "min           26.147921    -6.554948              14.000000     13.366931   \n",
       "25%           46.430294    10.667069              37.000000     33.347122   \n",
       "50%           58.691038    16.357689              49.562398     42.404912   \n",
       "75%           72.877696    22.120395              63.000000     52.695888   \n",
       "max          129.834041    49.431864             125.742385    121.429566   \n",
       "\n",
       "       pelvic_radius  degree_spondylolisthesis  \n",
       "count     310.000000                310.000000  \n",
       "mean      117.920655                 26.296694  \n",
       "std        13.317377                 37.559027  \n",
       "min        70.082575                -11.058179  \n",
       "25%       110.709196                  1.603727  \n",
       "50%       118.268178                 11.767934  \n",
       "75%       125.467674                 41.287352  \n",
       "max       163.071041                418.543082  "
      ]
     },
     "execution_count": 74,
     "metadata": {},
     "output_type": "execute_result"
    }
   ],
   "source": [
    "bio_data.describe()"
   ]
  },
  {
   "cell_type": "code",
   "execution_count": 75,
   "metadata": {},
   "outputs": [
    {
     "data": {
      "text/html": [
       "<div>\n",
       "<style scoped>\n",
       "    .dataframe tbody tr th:only-of-type {\n",
       "        vertical-align: middle;\n",
       "    }\n",
       "\n",
       "    .dataframe tbody tr th {\n",
       "        vertical-align: top;\n",
       "    }\n",
       "\n",
       "    .dataframe thead th {\n",
       "        text-align: right;\n",
       "    }\n",
       "</style>\n",
       "<table border=\"1\" class=\"dataframe\">\n",
       "  <thead>\n",
       "    <tr style=\"text-align: right;\">\n",
       "      <th></th>\n",
       "      <th>class</th>\n",
       "    </tr>\n",
       "  </thead>\n",
       "  <tbody>\n",
       "    <tr>\n",
       "      <th>count</th>\n",
       "      <td>310</td>\n",
       "    </tr>\n",
       "    <tr>\n",
       "      <th>unique</th>\n",
       "      <td>3</td>\n",
       "    </tr>\n",
       "    <tr>\n",
       "      <th>top</th>\n",
       "      <td>Spondylolisthesis</td>\n",
       "    </tr>\n",
       "    <tr>\n",
       "      <th>freq</th>\n",
       "      <td>150</td>\n",
       "    </tr>\n",
       "  </tbody>\n",
       "</table>\n",
       "</div>"
      ],
      "text/plain": [
       "                    class\n",
       "count                 310\n",
       "unique                  3\n",
       "top     Spondylolisthesis\n",
       "freq                  150"
      ]
     },
     "execution_count": 75,
     "metadata": {},
     "output_type": "execute_result"
    }
   ],
   "source": [
    "bio_data.describe(include = 'object')"
   ]
  },
  {
   "cell_type": "markdown",
   "metadata": {},
   "source": [
    "The ML problem we are trying to solve is to predict the patient class using the numeric feature inputs. How many input features does this dataset provide?\n",
    "\n",
    "Answer: 6\n",
    "\n",
    "How many classes are represented in this dataset?\n",
    "\n",
    "Answer: 3"
   ]
  },
  {
   "cell_type": "markdown",
   "metadata": {},
   "source": [
    "## Part 1-2: Preparing Data for ML\n",
    "The following code prepares the data for our ML activites."
   ]
  },
  {
   "cell_type": "code",
   "execution_count": 76,
   "metadata": {},
   "outputs": [],
   "source": [
    "X, y = bio_data[[\"pelvic_incidence\", \"pelvic_tilt\", \"lumbar_lordosis_angle\", \n",
    "                 \"sacral_slope\", \"pelvic_radius\", \"degree_spondylolisthesis\"]], bio_data[[\"class\"]]"
   ]
  },
  {
   "cell_type": "code",
   "execution_count": 77,
   "metadata": {},
   "outputs": [],
   "source": [
    "from sklearn.model_selection import train_test_split\n",
    "\n",
    "X_train, X_test, y_train, y_test = train_test_split(X, y, test_size=0.2, random_state=42)"
   ]
  },
  {
   "cell_type": "markdown",
   "metadata": {},
   "source": [
    "Write the code to perform any necessary transformations on the input and output values. Name the outputs of these transformations X_train_tr and y_train_tr."
   ]
  },
  {
   "cell_type": "code",
   "execution_count": 78,
   "metadata": {},
   "outputs": [
    {
     "data": {
      "text/plain": [
       "array([2., 2., 1., 1., 2., 2., 2., 0., 2., 0., 2., 0., 0., 1., 0., 2., 2.,\n",
       "       2., 1., 2., 2., 2., 2., 1., 2., 2., 2., 1., 0., 2., 2., 1., 1., 2.,\n",
       "       0., 0., 1., 1., 2., 2., 1., 0., 0., 0., 2., 1., 2., 2., 2., 0., 2.,\n",
       "       2., 1., 2., 0., 1., 2., 2., 2., 2., 1., 2., 2., 1., 2., 1., 1., 2.,\n",
       "       2., 1., 1., 2., 0., 1., 2., 2., 2., 2., 2., 1., 1., 1., 2., 1., 0.,\n",
       "       2., 2., 2., 2., 1., 1., 2., 2., 0., 2., 1., 2., 1., 2., 2., 1., 1.,\n",
       "       2., 2., 2., 1., 2., 0., 0., 0., 2., 2., 1., 2., 2., 0., 2., 1., 2.,\n",
       "       1., 0., 2., 1., 2., 0., 1., 2., 1., 0., 1., 1., 2., 2., 1., 2., 2.,\n",
       "       2., 0., 2., 2., 1., 1., 1., 0., 1., 2., 1., 0., 1., 0., 2., 0., 1.,\n",
       "       2., 1., 1., 2., 2., 1., 2., 2., 1., 0., 2., 1., 2., 0., 1., 2., 0.,\n",
       "       2., 1., 1., 2., 0., 1., 2., 2., 1., 2., 1., 0., 1., 1., 1., 2., 0.,\n",
       "       0., 2., 1., 1., 1., 2., 2., 0., 1., 2., 2., 0., 0., 0., 2., 2., 0.,\n",
       "       1., 2., 0., 1., 1., 0., 2., 1., 2., 1., 2., 1., 1., 0., 0., 2., 2.,\n",
       "       1., 2., 2., 0., 0., 1., 1., 0., 2., 1., 2., 1., 1., 2., 2., 2., 2.,\n",
       "       2., 1., 2., 1., 0., 2., 2., 2., 1., 2.])"
      ]
     },
     "execution_count": 78,
     "metadata": {},
     "output_type": "execute_result"
    }
   ],
   "source": [
    "from sklearn.pipeline import Pipeline\n",
    "from sklearn.preprocessing import StandardScaler\n",
    "from sklearn.preprocessing import OrdinalEncoder\n",
    "\n",
    "grid_pipeline = Pipeline([('std_scaler', StandardScaler())])\n",
    "\n",
    "X_train_tr = grid_pipeline.fit_transform(X_train)\n",
    "\n",
    "#class type data y is transformed with ordinal encoder\n",
    "encoder = OrdinalEncoder()\n",
    "y_train_tr = encoder.fit_transform(y_train)\n",
    "\n",
    "#ravel to fit the input when training\n",
    "y_train_tr.ravel()"
   ]
  },
  {
   "cell_type": "markdown",
   "metadata": {},
   "source": [
    "Print the first few rows of X_train_tr and y_train_tr."
   ]
  },
  {
   "cell_type": "code",
   "execution_count": 79,
   "metadata": {},
   "outputs": [
    {
     "name": "stdout",
     "output_type": "stream",
     "text": [
      "[[ 0.63294865  0.50768964  0.44692756  0.4488586  -1.18307392  0.06411647]\n",
      " [ 0.51156455 -0.18942352  0.66256327  0.79334738  0.43550848  0.37020317]\n",
      " [-0.59323076 -0.01528651 -1.30700744 -0.75132401  0.27734871 -0.61408236]\n",
      " ...\n",
      " [ 0.29988298 -0.74145468  0.36562835  0.91764812 -1.83848781  0.63729861]\n",
      " [-0.50597359 -0.84279999  0.32423763 -0.0451162   0.67652542 -0.72033821]\n",
      " [ 0.61662274 -0.3591444   0.56048692  1.05019146 -1.23623963  0.0046236 ]]\n"
     ]
    }
   ],
   "source": [
    "print(X_train_tr)"
   ]
  },
  {
   "cell_type": "code",
   "execution_count": 80,
   "metadata": {},
   "outputs": [
    {
     "name": "stdout",
     "output_type": "stream",
     "text": [
      "[[2.]\n",
      " [2.]\n",
      " [1.]\n",
      " [1.]\n",
      " [2.]\n",
      " [2.]\n",
      " [2.]\n",
      " [0.]\n",
      " [2.]\n",
      " [0.]\n",
      " [2.]\n",
      " [0.]\n",
      " [0.]\n",
      " [1.]\n",
      " [0.]\n",
      " [2.]\n",
      " [2.]\n",
      " [2.]\n",
      " [1.]\n",
      " [2.]\n",
      " [2.]\n",
      " [2.]\n",
      " [2.]\n",
      " [1.]\n",
      " [2.]\n",
      " [2.]\n",
      " [2.]\n",
      " [1.]\n",
      " [0.]\n",
      " [2.]\n",
      " [2.]\n",
      " [1.]\n",
      " [1.]\n",
      " [2.]\n",
      " [0.]\n",
      " [0.]\n",
      " [1.]\n",
      " [1.]\n",
      " [2.]\n",
      " [2.]\n",
      " [1.]\n",
      " [0.]\n",
      " [0.]\n",
      " [0.]\n",
      " [2.]\n",
      " [1.]\n",
      " [2.]\n",
      " [2.]\n",
      " [2.]\n",
      " [0.]\n",
      " [2.]\n",
      " [2.]\n",
      " [1.]\n",
      " [2.]\n",
      " [0.]\n",
      " [1.]\n",
      " [2.]\n",
      " [2.]\n",
      " [2.]\n",
      " [2.]\n",
      " [1.]\n",
      " [2.]\n",
      " [2.]\n",
      " [1.]\n",
      " [2.]\n",
      " [1.]\n",
      " [1.]\n",
      " [2.]\n",
      " [2.]\n",
      " [1.]\n",
      " [1.]\n",
      " [2.]\n",
      " [0.]\n",
      " [1.]\n",
      " [2.]\n",
      " [2.]\n",
      " [2.]\n",
      " [2.]\n",
      " [2.]\n",
      " [1.]\n",
      " [1.]\n",
      " [1.]\n",
      " [2.]\n",
      " [1.]\n",
      " [0.]\n",
      " [2.]\n",
      " [2.]\n",
      " [2.]\n",
      " [2.]\n",
      " [1.]\n",
      " [1.]\n",
      " [2.]\n",
      " [2.]\n",
      " [0.]\n",
      " [2.]\n",
      " [1.]\n",
      " [2.]\n",
      " [1.]\n",
      " [2.]\n",
      " [2.]\n",
      " [1.]\n",
      " [1.]\n",
      " [2.]\n",
      " [2.]\n",
      " [2.]\n",
      " [1.]\n",
      " [2.]\n",
      " [0.]\n",
      " [0.]\n",
      " [0.]\n",
      " [2.]\n",
      " [2.]\n",
      " [1.]\n",
      " [2.]\n",
      " [2.]\n",
      " [0.]\n",
      " [2.]\n",
      " [1.]\n",
      " [2.]\n",
      " [1.]\n",
      " [0.]\n",
      " [2.]\n",
      " [1.]\n",
      " [2.]\n",
      " [0.]\n",
      " [1.]\n",
      " [2.]\n",
      " [1.]\n",
      " [0.]\n",
      " [1.]\n",
      " [1.]\n",
      " [2.]\n",
      " [2.]\n",
      " [1.]\n",
      " [2.]\n",
      " [2.]\n",
      " [2.]\n",
      " [0.]\n",
      " [2.]\n",
      " [2.]\n",
      " [1.]\n",
      " [1.]\n",
      " [1.]\n",
      " [0.]\n",
      " [1.]\n",
      " [2.]\n",
      " [1.]\n",
      " [0.]\n",
      " [1.]\n",
      " [0.]\n",
      " [2.]\n",
      " [0.]\n",
      " [1.]\n",
      " [2.]\n",
      " [1.]\n",
      " [1.]\n",
      " [2.]\n",
      " [2.]\n",
      " [1.]\n",
      " [2.]\n",
      " [2.]\n",
      " [1.]\n",
      " [0.]\n",
      " [2.]\n",
      " [1.]\n",
      " [2.]\n",
      " [0.]\n",
      " [1.]\n",
      " [2.]\n",
      " [0.]\n",
      " [2.]\n",
      " [1.]\n",
      " [1.]\n",
      " [2.]\n",
      " [0.]\n",
      " [1.]\n",
      " [2.]\n",
      " [2.]\n",
      " [1.]\n",
      " [2.]\n",
      " [1.]\n",
      " [0.]\n",
      " [1.]\n",
      " [1.]\n",
      " [1.]\n",
      " [2.]\n",
      " [0.]\n",
      " [0.]\n",
      " [2.]\n",
      " [1.]\n",
      " [1.]\n",
      " [1.]\n",
      " [2.]\n",
      " [2.]\n",
      " [0.]\n",
      " [1.]\n",
      " [2.]\n",
      " [2.]\n",
      " [0.]\n",
      " [0.]\n",
      " [0.]\n",
      " [2.]\n",
      " [2.]\n",
      " [0.]\n",
      " [1.]\n",
      " [2.]\n",
      " [0.]\n",
      " [1.]\n",
      " [1.]\n",
      " [0.]\n",
      " [2.]\n",
      " [1.]\n",
      " [2.]\n",
      " [1.]\n",
      " [2.]\n",
      " [1.]\n",
      " [1.]\n",
      " [0.]\n",
      " [0.]\n",
      " [2.]\n",
      " [2.]\n",
      " [1.]\n",
      " [2.]\n",
      " [2.]\n",
      " [0.]\n",
      " [0.]\n",
      " [1.]\n",
      " [1.]\n",
      " [0.]\n",
      " [2.]\n",
      " [1.]\n",
      " [2.]\n",
      " [1.]\n",
      " [1.]\n",
      " [2.]\n",
      " [2.]\n",
      " [2.]\n",
      " [2.]\n",
      " [2.]\n",
      " [1.]\n",
      " [2.]\n",
      " [1.]\n",
      " [0.]\n",
      " [2.]\n",
      " [2.]\n",
      " [2.]\n",
      " [1.]\n",
      " [2.]]\n"
     ]
    }
   ],
   "source": [
    "print(y_train_tr)"
   ]
  },
  {
   "cell_type": "markdown",
   "metadata": {},
   "source": [
    "## Part 1-3: Train ML Models\n",
    "In this part, write the code to train three ML models. For each model you should explore the impact of a regularization parameter. The models and the parameter are:\n",
    "\n",
    "* Logistic Regression Classifier (LogisticRegression): vary parameter C\n",
    "* Support Vector Machine Classifier (SVC): vary parameter C (you may choose any one kernel function)\n",
    "* Random Forest Classifier (RandomForestClassifier): vary parameter min_samples_leaf\n",
    "\n",
    "For each classifier, use a grid search with cross validation (GridSearchCV) to find a good value for the specified parameter. Please name your classifiers sgd_clf, svc_clf, and forest_clf, respectively. For each classifier provide the following:\n",
    "\n",
    "* Plot a figure showing the grid search score (mean_test_score) vs. the parameter value\n",
    "* Print the best paramter value\n",
    "* Print the score (mean_test_score) achieved for the best parameter value\n",
    "* Print the F1 score for the complete training set (note that sklearn.metrics.f1_score automatically handles multiclass classification)\n",
    "\n",
    "Note: In order to show evidence that you found a good parameter, you should show a figure that has a \"peak\" in it. That is, the range of your paramter should be sufficiently large so that it is apparent that the best parameter is indeed an optimum.\n",
    "\n",
    "You may use the following function for the plot or write your own."
   ]
  },
  {
   "cell_type": "code",
   "execution_count": 81,
   "metadata": {},
   "outputs": [],
   "source": [
    "def plot_score(clf, parameter):\n",
    "    scores_mean = clf.cv_results_[('mean_test_score')]\n",
    "    plt.style.use('seaborn')\n",
    "    plt.plot(clf.param_grid[parameter], scores_mean, '-o')\n",
    "\n",
    "    plt.title(\"Grid Search\", fontsize=20, fontweight='normal')\n",
    "    plt.xlabel(parameter, fontsize=16)\n",
    "    plt.ylabel('score', fontsize=16)"
   ]
  },
  {
   "cell_type": "markdown",
   "metadata": {},
   "source": [
    "The function is invoked with plot_score(clf, 'X'), where clf is the grid search classifier and 'X' is the name of the parameter that was used in the grid search."
   ]
  },
  {
   "cell_type": "markdown",
   "metadata": {},
   "source": [
    "### Logistic Regression Classifier"
   ]
  },
  {
   "cell_type": "code",
   "execution_count": 82,
   "metadata": {},
   "outputs": [
    {
     "data": {
      "image/png": "[encoded data removed]",
      "text/plain": [
       "<Figure size 640x480 with 1 Axes>"
      ]
     },
     "metadata": {},
     "output_type": "display_data"
    },
    {
     "name": "stdout",
     "output_type": "stream",
     "text": [
      "Best C for Logistic Regression: 100\n",
      "Best Mean Test Score: 0.8631836734693877\n",
      "F1 Score (Training Set): 0.837244411264568\n"
     ]
    }
   ],
   "source": [
    "from sklearn.linear_model import LogisticRegression\n",
    "from sklearn.model_selection import GridSearchCV\n",
    "from sklearn.metrics import f1_score\n",
    "\n",
    "#There are input data format warnings that does not effect the output but occupy the screen. Therefore they are ignored.\n",
    "import warnings\n",
    "warnings.filterwarnings(\"ignore\")\n",
    "\n",
    "#Train the model and determine the best parameter from 0.001 to 100\n",
    "param_grid = {'C': [0.001, 0.01, 0.1, 1, 10, 100]}\n",
    "sgd_clf = GridSearchCV(LogisticRegression(random_state=42), param_grid, cv=5)\n",
    "sgd_clf.fit(X_train_tr, y_train_tr)\n",
    "\n",
    "#Print the graph with parameters as its x axis and mean test score as its y axis\n",
    "plt.plot(param_grid['C'], sgd_clf.cv_results_['mean_test_score'])\n",
    "plt.xlabel('C')\n",
    "plt.ylabel('Mean Test Score')\n",
    "plt.title('Logistic Regression Classifier')\n",
    "plt.show()\n",
    "\n",
    "#Print the parameter and scoring results\n",
    "print(\"Best C for Logistic Regression:\", sgd_clf.best_params_['C'])\n",
    "print(\"Best Mean Test Score:\", sgd_clf.best_score_)\n",
    "print(\"F1 Score (Training Set):\", f1_score(y_train_tr, sgd_clf.predict(X_train_tr), average='macro'))"
   ]
  },
  {
   "cell_type": "markdown",
   "metadata": {},
   "source": [
    "### SVM Classifier"
   ]
  },
  {
   "cell_type": "code",
   "execution_count": 83,
   "metadata": {},
   "outputs": [
    {
     "data": {
      "image/png": "[encoded data removed]",
      "text/plain": [
       "<Figure size 640x480 with 1 Axes>"
      ]
     },
     "metadata": {},
     "output_type": "display_data"
    },
    {
     "name": "stdout",
     "output_type": "stream",
     "text": [
      "Best C for SVM: 1\n",
      "Best Mean Test Score: 0.8268571428571428\n",
      "F1 Score (Training Set): 0.8515811955275363\n"
     ]
    }
   ],
   "source": [
    "from sklearn.svm import SVC\n",
    "\n",
    "#Train the model and determine the best parameter from 0.1 to 100\n",
    "param_grid = {'C': [0.1, 1, 10, 100], 'kernel': ['rbf']}  \n",
    "svc_clf = GridSearchCV(SVC(random_state=42), param_grid, cv=5)\n",
    "svc_clf.fit(X_train_tr, y_train_tr)\n",
    "\n",
    "#Print the graph with parameters as its x axis and mean test score as its y axis\n",
    "plt.plot(param_grid['C'], svc_clf.cv_results_['mean_test_score'])\n",
    "plt.xlabel('C')\n",
    "plt.ylabel('Mean Test Score')\n",
    "plt.title('SVM Classifier')\n",
    "plt.show()\n",
    "\n",
    "#Print the parameter and scoring results\n",
    "print(\"Best C for SVM:\", svc_clf.best_params_['C'])\n",
    "print(\"Best Mean Test Score:\", svc_clf.best_score_)\n",
    "print(\"F1 Score (Training Set):\", f1_score(y_train_tr, svc_clf.predict(X_train_tr), average='macro'))"
   ]
  },
  {
   "cell_type": "markdown",
   "metadata": {},
   "source": [
    "### Random Forest Classifier"
   ]
  },
  {
   "cell_type": "code",
   "execution_count": 84,
   "metadata": {},
   "outputs": [
    {
     "data": {
      "image/png": "[encoded data removed]",
      "text/plain": [
       "<Figure size 640x480 with 1 Axes>"
      ]
     },
     "metadata": {},
     "output_type": "display_data"
    },
    {
     "name": "stdout",
     "output_type": "stream",
     "text": [
      "Best min_samples_leaf for Random Forest: 2\n",
      "Best Mean Test Score: 0.850938775510204\n",
      "F1 Score (Training Set): 0.9875512733107586\n"
     ]
    }
   ],
   "source": [
    "from sklearn.ensemble import RandomForestClassifier\n",
    "from sklearn.model_selection import cross_val_predict\n",
    "\n",
    "#Train the model and determine the best min sample leaf from 1 to 16\n",
    "param_grid = {'min_samples_leaf': [1, 2, 4, 8, 16]}\n",
    "forest_clf = GridSearchCV(RandomForestClassifier(random_state=42), param_grid, cv=5)\n",
    "forest_clf.fit(X_train_tr, y_train_tr)\n",
    "\n",
    "#Print the graph with min sample leaf as its x axis and mean test score as its y axis\n",
    "plt.plot(param_grid['min_samples_leaf'], forest_clf.cv_results_['mean_test_score'])\n",
    "plt.xlabel('min_samples_leaf')\n",
    "plt.ylabel('Mean Test Score')\n",
    "plt.title('Random Forest Classifier')\n",
    "plt.show()\n",
    "\n",
    "#Print the parameter and scoring results\n",
    "print(\"Best min_samples_leaf for Random Forest:\", forest_clf.best_params_['min_samples_leaf'])\n",
    "print(\"Best Mean Test Score:\", forest_clf.best_score_)\n",
    "print(\"F1 Score (Training Set):\", f1_score(y_train_tr, forest_clf.predict(X_train_tr), average='macro'))"
   ]
  },
  {
   "cell_type": "markdown",
   "metadata": {},
   "source": [
    "## Part 1-4: Evaluation\n",
    "\n",
    "In this part, write the code to evaluate the three ML classifiers that you trained previously. Summarize your results in the table."
   ]
  },
  {
   "cell_type": "code",
   "execution_count": 85,
   "metadata": {},
   "outputs": [
    {
     "name": "stdout",
     "output_type": "stream",
     "text": [
      "Logistic Regression Performance:\n",
      "Test Set Accuracy: 0.8387096774193549\n",
      "F1 Score (Testing Set): 0.7607655502392344\n",
      "SVM Performance:\n",
      "Test Set Accuracy: 0.8064516129032258\n",
      "F1 Score (Testing Set): 0.723931623931624\n",
      "Random Forest Performance:\n",
      "Test Set Accuracy: 0.7903225806451613\n",
      "F1 Score (Testing Set): 0.6443228454172366\n"
     ]
    }
   ],
   "source": [
    "#transform the testing dataset\n",
    "X_test_tr = grid_pipeline.fit_transform(X_test)\n",
    "y_test_tr = encoder.fit_transform(y_test)\n",
    "y_test_tr.ravel()\n",
    "\n",
    "#evaluate logistic regression\n",
    "y_pred_sgd = sgd_clf.predict(X_test_tr)\n",
    "print(\"Logistic Regression Performance:\")\n",
    "print(\"Test Set Accuracy:\", sgd_clf.score(X_test_tr, y_test_tr))\n",
    "print(\"F1 Score (Testing Set):\", f1_score(y_test_tr, y_pred_sgd, average='macro'))\n",
    "\n",
    "#evaluate SVM\n",
    "y_pred_svc = svc_clf.predict(X_test_tr)\n",
    "print(\"SVM Performance:\")\n",
    "print(\"Test Set Accuracy:\", svc_clf.score(X_test_tr, y_test_tr))\n",
    "print(\"F1 Score (Testing Set):\", f1_score(y_test_tr, y_pred_svc, average='macro'))\n",
    "\n",
    "#evaluate random forest\n",
    "y_pred_forest = forest_clf.predict(X_test_tr)\n",
    "print(\"Random Forest Performance:\")\n",
    "print(\"Test Set Accuracy:\", forest_clf.score(X_test_tr, y_test_tr))\n",
    "print(\"F1 Score (Testing Set):\", f1_score(y_test_tr, y_pred_forest, average='macro'))"
   ]
  },
  {
   "cell_type": "markdown",
   "metadata": {},
   "source": [
    "Provide a summary of your results in this table:\n",
    "\n",
    "| ML algorithm                       | best parameter       | training dataset F1 score | test dataset F1 score |\n",
    "| ---------------------------------- | -------------------- | ------------------------- |---------------------- |\n",
    "| Logistic Regression Classifier     | 100                  | 0.83724                   | 0.76076               |\n",
    "| Support Vector Machine Classifier  | 1                    | 0.85158                   | 0.72393               |\n",
    "| Random Forest Classifier           | 2                    | 0.98755                   | 0.64432               |\n"
   ]
  },
  {
   "cell_type": "markdown",
   "metadata": {},
   "source": [
    "Provide a brief discussion of your results (1-2 sentences for each classifier):\n",
    "Overall, the logistic regression classifier performs the best with the most consistent training and testing dataset F1 score and the highest testing F1 score.\n",
    " "
   ]
  },
  {
   "cell_type": "markdown",
   "metadata": {},
   "source": [
    "# Part 2: Your Dataset\n",
    "## Part 2-1: Find and Perpare Dataset\n",
    "In this part of the project you are asked for find your own suitable dataset for training a classifier or a regressor. The requirements for the dataset are:\n",
    "\n",
    "* The dataset must be available on a public website (e.g., https://www.kaggle.com/datasets, https://archive.ics.uci.edu/ml/, etc.).\n",
    "* The dataset must be suitable for a classification task (binary classification or multiclass classification) or for a regression task. For classification, class labels need to be part of the dataset already. For regression, a numeric value needs to be available for estimation.\n",
    "* The dataset must contain more than 100 instances and no more than 10,000-100,000 instances.\n",
    "* The dataset should have a handful (i.e., not hundreds) of features. Do not use datasets with images or time series."
   ]
  },
  {
   "cell_type": "markdown",
   "metadata": {},
   "source": [
    "What is the URL to the dataset of your choice? \n",
    "\n",
    "Answer: https://archive.ics.uci.edu/dataset/19/car+evaluation\n",
    "\n",
    "Provide a brief description of the dataset: \n",
    "\n",
    "Answer: The dataset provides a few vehcle conditions as variables and provides their evaluation level based on the conditions\n",
    "\n",
    "Are you using this dataset for classification or for regression?\n",
    "\n",
    "Answer: classification\n",
    "\n",
    "Describe the classification task or regression task:\n",
    "\n",
    "Answer: The task is to classify the vehcles with various conditions to their proper evaluation levels"
   ]
  },
  {
   "cell_type": "markdown",
   "metadata": {},
   "source": [
    "To prepare the dataset, please save the necessary data in a .csv file. What is the name of your data file? \n",
    "\n",
    "Answer: car.csv"
   ]
  },
  {
   "cell_type": "markdown",
   "metadata": {},
   "source": [
    "## Part 2-2: Train ML System\n",
    "Write the code to load the data, prepare the data for your ML task, set up an ML system with an algorithm of your choice, and train the ML system. Note that you may drop features from the dataset if you do not want to use them. During training, explore one parameter to find a good choice for that parameter. Repeat this process for at least one additional ML system that uses a different algorithm."
   ]
  },
  {
   "cell_type": "code",
   "execution_count": 86,
   "metadata": {},
   "outputs": [
    {
     "data": {
      "image/png": "[encoded data removed]",
      "text/plain": [
       "<Figure size 640x480 with 1 Axes>"
      ]
     },
     "metadata": {},
     "output_type": "display_data"
    },
    {
     "name": "stdout",
     "output_type": "stream",
     "text": [
      "Best C for Logistic Regression: 0.01\n",
      "Best Mean Test Score: 0.7112828964579082\n",
      "F1 Score (Training Set): 0.25090121019654965\n"
     ]
    },
    {
     "data": {
      "image/png": "[encoded data removed]",
      "text/plain": [
       "<Figure size 640x480 with 1 Axes>"
      ]
     },
     "metadata": {},
     "output_type": "display_data"
    },
    {
     "name": "stdout",
     "output_type": "stream",
     "text": [
      "Best C for SVM: 100\n",
      "Best Mean Test Score: 0.9905901742269659\n",
      "F1 Score (Training Set): 1.0\n"
     ]
    },
    {
     "data": {
      "image/png": "[encoded data removed]",
      "text/plain": [
       "<Figure size 640x480 with 1 Axes>"
      ]
     },
     "metadata": {},
     "output_type": "display_data"
    },
    {
     "name": "stdout",
     "output_type": "stream",
     "text": [
      "Best min_samples_leaf for Random Forest: 1\n",
      "Best Mean Test Score: 0.9703186312980693\n",
      "F1 Score (Training Set): 1.0\n"
     ]
    }
   ],
   "source": [
    "#import the dataset\n",
    "car_data = pd.read_csv(os.path.join(\"Datasets\",\"car.csv\"))\n",
    "\n",
    "#prepare the datasets\n",
    "X, y = car_data[[\"buying\", \"maint\", \"doors\", \"persons\", \"lug_boot\", \"safety\"]], car_data[[\"evaluation\"]]\n",
    "X_train, X_test, y_train, y_test = train_test_split(X, y, test_size=0.2, random_state=42)\n",
    "\n",
    "#transform the datasets with ordinal encoder since they are all class data\n",
    "encoder = OrdinalEncoder()\n",
    "X_train_tr = encoder.fit_transform(X_train)\n",
    "y_train_tr = encoder.fit_transform(y_train)\n",
    "\n",
    "#train the logistic regression classifier\n",
    "param_grid = {'C': [0.001, 0.01, 0.1, 1, 10, 100]}\n",
    "sgd_clf = GridSearchCV(LogisticRegression(random_state=42), param_grid, cv=5)\n",
    "sgd_clf.fit(X_train_tr, y_train_tr)\n",
    "\n",
    "#show the result of sgd classifier\n",
    "plt.plot(param_grid['C'], sgd_clf.cv_results_['mean_test_score'])\n",
    "plt.xlabel('C')\n",
    "plt.ylabel('Mean Test Score')\n",
    "plt.title('Logistic Regression Classifier')\n",
    "plt.show()\n",
    "\n",
    "print(\"Best C for Logistic Regression:\", sgd_clf.best_params_['C'])\n",
    "print(\"Best Mean Test Score:\", sgd_clf.best_score_)\n",
    "print(\"F1 Score (Training Set):\", f1_score(y_train_tr, sgd_clf.predict(X_train_tr), average='macro'))\n",
    "\n",
    "#train the SVM classifier\n",
    "param_grid = {'C': [0.1, 1, 10, 100, 200], 'kernel': ['rbf']}  #max C increased to 200 since the best param was 100 during testing\n",
    "svc_clf = GridSearchCV(SVC(random_state=42), param_grid, cv=5)\n",
    "svc_clf.fit(X_train_tr, y_train_tr)\n",
    "\n",
    "#show the result of SVM classifier\n",
    "plt.plot(param_grid['C'], svc_clf.cv_results_['mean_test_score'])\n",
    "plt.xlabel('C')\n",
    "plt.ylabel('Mean Test Score')\n",
    "plt.title('SVM Classifier')\n",
    "plt.show()\n",
    "\n",
    "print(\"Best C for SVM:\", svc_clf.best_params_['C'])\n",
    "print(\"Best Mean Test Score:\", svc_clf.best_score_)\n",
    "print(\"F1 Score (Training Set):\", f1_score(y_train_tr, svc_clf.predict(X_train_tr), average='macro'))\n",
    "\n",
    "#train the random forest classifier\n",
    "param_grid = {'min_samples_leaf': [1, 2, 4, 8, 16]}\n",
    "forest_clf = GridSearchCV(RandomForestClassifier(random_state=42), param_grid, cv=5)\n",
    "forest_clf.fit(X_train_tr, y_train_tr)\n",
    "\n",
    "#show the result of random forest classifier\n",
    "plt.plot(param_grid['min_samples_leaf'], forest_clf.cv_results_['mean_test_score'])\n",
    "plt.xlabel('min_samples_leaf')\n",
    "plt.ylabel('Mean Test Score')\n",
    "plt.title('Random Forest Classifier')\n",
    "plt.show()\n",
    "\n",
    "print(\"Best min_samples_leaf for Random Forest:\", forest_clf.best_params_['min_samples_leaf'])\n",
    "print(\"Best Mean Test Score:\", forest_clf.best_score_)\n",
    "print(\"F1 Score (Training Set):\", f1_score(y_train_tr, forest_clf.predict(X_train_tr), average='macro'))"
   ]
  },
  {
   "cell_type": "markdown",
   "metadata": {},
   "source": [
    "Which of the ML systems you tried out will you use for the final evaluation? Why?\n",
    "\n",
    "I have tried the logistic regression classifier, the SVM classifier, and the random forest classifier. The logistic regression did not work as expected since the lack of numeric data. The SVM and random forest classifier have similar performance and I will evaluate both of their performance below."
   ]
  },
  {
   "cell_type": "markdown",
   "metadata": {},
   "source": [
    "## Part 2-3: Evaluate ML System\n",
    "Write the code to evaluate your ML system."
   ]
  },
  {
   "cell_type": "code",
   "execution_count": 87,
   "metadata": {},
   "outputs": [
    {
     "name": "stdout",
     "output_type": "stream",
     "text": [
      "SVM Performance:\n",
      "Test Set Accuracy: 0.9884393063583815\n",
      "F1 Score (Testing Set): 0.9402215654845388\n",
      "Random Forest Performance:\n",
      "Test Set Accuracy: 0.9739884393063584\n",
      "F1 Score (Testing Set): 0.9236425484226891\n"
     ]
    }
   ],
   "source": [
    "#transform testing sets\n",
    "X_test_tr = encoder.fit_transform(X_test)\n",
    "y_test_tr = encoder.fit_transform(y_test)\n",
    "\n",
    "#evaluate SVM\n",
    "y_pred_svc = svc_clf.predict(X_test_tr)\n",
    "print(\"SVM Performance:\")\n",
    "print(\"Test Set Accuracy:\", svc_clf.score(X_test_tr, y_test_tr))\n",
    "print(\"F1 Score (Testing Set):\", f1_score(y_test_tr, y_pred_svc, average='macro'))\n",
    "\n",
    "#evaluate random forest\n",
    "y_pred_forest = forest_clf.predict(X_test_tr)\n",
    "print(\"Random Forest Performance:\")\n",
    "print(\"Test Set Accuracy:\", forest_clf.score(X_test_tr, y_test_tr))\n",
    "print(\"F1 Score (Testing Set):\", f1_score(y_test_tr, y_pred_forest, average='macro'))"
   ]
  },
  {
   "cell_type": "markdown",
   "metadata": {},
   "source": [
    "Write a brief summary about the ML system that you created for your dataset. What worked well and what would you improve in the future?"
   ]
  },
  {
   "cell_type": "code",
   "execution_count": null,
   "metadata": {},
   "outputs": [],
   "source": [
    "\"Both SVM classifier and random forest classifier performed well with SVM classifier performs slightly better. I think model-wise, the SVM classifier\"\n",
    "\"is performing at a satisfactory level. I would wish to do better in data processing and pickout any outliers that would potentially harm the model\""
   ]
  }
 ],
 "metadata": {
  "kernelspec": {
   "display_name": "Python 3 (ipykernel)",
   "language": "python",
   "name": "python3"
  },
  "language_info": {
   "codemirror_mode": {
    "name": "ipython",
    "version": 3
   },
   "file_extension": ".py",
   "mimetype": "text/x-python",
   "name": "python",
   "nbconvert_exporter": "python",
   "pygments_lexer": "ipython3",
   "version": "3.8.10"
  }
 },
 "nbformat": 4,
 "nbformat_minor": 4
}
